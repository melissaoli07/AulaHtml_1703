{
  "cells": [
    {
      "cell_type": "markdown",
      "metadata": {
        "id": "view-in-github",
        "colab_type": "text"
      },
      "source": [
        "<a href=\"https://colab.research.google.com/github/melissaoli07/AulaHtml_1703/blob/main/Aula_16_Introdu%C3%A7%C3%A3o_%C3%A0_Ci%C3%AAncia_de_Dados.ipynb\" target=\"_parent\"><img src=\"https://colab.research.google.com/assets/colab-badge.svg\" alt=\"Open In Colab\"/></a>"
      ]
    },
    {
      "cell_type": "markdown",
      "id": "dc2dbf66",
      "metadata": {
        "id": "dc2dbf66"
      },
      "source": [
        "# Aula 16 - Introdução à Ciência de Dados\n",
        "\n",
        "Nesta aula vamos começar a utilizar ferramentas de Data Science para carregar dados, gerar estatísticas e gráficos.\n",
        "\n",
        "Vamos ver algumas funcionalidades da biblioteca pandas (https://pandas.pydata.org/) e do seaborn (https://seaborn.pydata.org/)\n",
        "\n",
        "Neste momento aprenderemos apenas as técnicas de **Análise Exploratória**, que é o momento onde carregamos e entedemos os tipos de dados que temos. Os próximos passos em um pipeline de Data Science envolvem encontrar modelos de Aprendizado de Máquina (regressão, classificação, agrupamento, redução de dimensionalidade, etc) que sejam adequados aos nossos propósitos (resolvam os problemas que queremos). Vamos aprender a usar essas técnicas nas próximas aulas.\n",
        "\n",
        "--------------------------"
      ]
    },
    {
      "cell_type": "markdown",
      "id": "b8333f3a",
      "metadata": {
        "id": "b8333f3a"
      },
      "source": [
        "## Exemplo 1 - Entomologia: Gafanhatos vs Esperanças\n",
        "\n",
        "![image-2.png](attachment:image-2.png)\n",
        "\n",
        "Foram medidos o comprimento das antenas e do abdômen de dois tipos de insetos: gafanhotos e esperanças.\n",
        "\n",
        "Carregue os dados do arquivo .csv fornecido e gere estatísticas e gráficos."
      ]
    },
    {
      "cell_type": "code",
      "execution_count": null,
      "id": "d0c90eb6",
      "metadata": {
        "id": "d0c90eb6"
      },
      "outputs": [],
      "source": [
        "import pandas as pd"
      ]
    },
    {
      "cell_type": "code",
      "execution_count": null,
      "id": "5d3c0970",
      "metadata": {
        "id": "5d3c0970"
      },
      "outputs": [],
      "source": [
        "dados = pd.read_csv('gaf_esp.csv', sep=';') # Estamos carregando o arquivo csv usando o ; como separador"
      ]
    },
    {
      "cell_type": "markdown",
      "id": "0c3da234",
      "metadata": {
        "id": "0c3da234"
      },
      "source": [
        "Os dados carregados no pandas estão em uma estrutura de dados chamada DataFrame. Este é o objeto que o pandas cria para representar os dados da tabela. Como todo objeto em POO (programação orientada à objeto), ele possui métodos que podem ser chamados.\n",
        "\n",
        "Para chamar um método de um objeto, basta escrever o nome da variável do objeto e colocar um . (ponto) na frente, evocando na sequência o nome do método seguido de  parenteses (arg), onde os argumentos arg podem ou não ser passados, dependendo do método.\n",
        "\n",
        "Vejamos dois exemplos de head():"
      ]
    },
    {
      "cell_type": "code",
      "execution_count": null,
      "id": "72fabb41",
      "metadata": {
        "id": "72fabb41",
        "outputId": "dd902b39-fdcd-4df5-c337-9ca16ef49ec9"
      },
      "outputs": [
        {
          "data": {
            "text/html": [
              "<div>\n",
              "<style scoped>\n",
              "    .dataframe tbody tr th:only-of-type {\n",
              "        vertical-align: middle;\n",
              "    }\n",
              "\n",
              "    .dataframe tbody tr th {\n",
              "        vertical-align: top;\n",
              "    }\n",
              "\n",
              "    .dataframe thead th {\n",
              "        text-align: right;\n",
              "    }\n",
              "</style>\n",
              "<table border=\"1\" class=\"dataframe\">\n",
              "  <thead>\n",
              "    <tr style=\"text-align: right;\">\n",
              "      <th></th>\n",
              "      <th>Espécie</th>\n",
              "      <th>Comprimento do Abdômen</th>\n",
              "      <th>Comprimento das Antenas</th>\n",
              "    </tr>\n",
              "  </thead>\n",
              "  <tbody>\n",
              "    <tr>\n",
              "      <th>0</th>\n",
              "      <td>Gafanhoto</td>\n",
              "      <td>0.50</td>\n",
              "      <td>7.0</td>\n",
              "    </tr>\n",
              "    <tr>\n",
              "      <th>1</th>\n",
              "      <td>Gafanhoto</td>\n",
              "      <td>0.50</td>\n",
              "      <td>6.0</td>\n",
              "    </tr>\n",
              "    <tr>\n",
              "      <th>2</th>\n",
              "      <td>Gafanhoto</td>\n",
              "      <td>0.60</td>\n",
              "      <td>5.5</td>\n",
              "    </tr>\n",
              "    <tr>\n",
              "      <th>3</th>\n",
              "      <td>Gafanhoto</td>\n",
              "      <td>0.65</td>\n",
              "      <td>4.5</td>\n",
              "    </tr>\n",
              "    <tr>\n",
              "      <th>4</th>\n",
              "      <td>Gafanhoto</td>\n",
              "      <td>0.54</td>\n",
              "      <td>3.2</td>\n",
              "    </tr>\n",
              "  </tbody>\n",
              "</table>\n",
              "</div>"
            ],
            "text/plain": [
              "     Espécie  Comprimento do Abdômen  Comprimento das Antenas\n",
              "0  Gafanhoto                    0.50                      7.0\n",
              "1  Gafanhoto                    0.50                      6.0\n",
              "2  Gafanhoto                    0.60                      5.5\n",
              "3  Gafanhoto                    0.65                      4.5\n",
              "4  Gafanhoto                    0.54                      3.2"
            ]
          },
          "execution_count": 3,
          "metadata": {},
          "output_type": "execute_result"
        }
      ],
      "source": [
        "dados.head() # o número passado para o método head é o número de linhas que queremos ver (por default 5)"
      ]
    },
    {
      "cell_type": "code",
      "execution_count": null,
      "id": "eedce2c8",
      "metadata": {
        "id": "eedce2c8",
        "outputId": "ad82e2ac-7ab8-48a3-e981-0bf29369d0db"
      },
      "outputs": [
        {
          "data": {
            "text/html": [
              "<div>\n",
              "<style scoped>\n",
              "    .dataframe tbody tr th:only-of-type {\n",
              "        vertical-align: middle;\n",
              "    }\n",
              "\n",
              "    .dataframe tbody tr th {\n",
              "        vertical-align: top;\n",
              "    }\n",
              "\n",
              "    .dataframe thead th {\n",
              "        text-align: right;\n",
              "    }\n",
              "</style>\n",
              "<table border=\"1\" class=\"dataframe\">\n",
              "  <thead>\n",
              "    <tr style=\"text-align: right;\">\n",
              "      <th></th>\n",
              "      <th>Espécie</th>\n",
              "      <th>Comprimento do Abdômen</th>\n",
              "      <th>Comprimento das Antenas</th>\n",
              "    </tr>\n",
              "  </thead>\n",
              "  <tbody>\n",
              "    <tr>\n",
              "      <th>0</th>\n",
              "      <td>Gafanhoto</td>\n",
              "      <td>0.50</td>\n",
              "      <td>7.00</td>\n",
              "    </tr>\n",
              "    <tr>\n",
              "      <th>1</th>\n",
              "      <td>Gafanhoto</td>\n",
              "      <td>0.50</td>\n",
              "      <td>6.00</td>\n",
              "    </tr>\n",
              "    <tr>\n",
              "      <th>2</th>\n",
              "      <td>Gafanhoto</td>\n",
              "      <td>0.60</td>\n",
              "      <td>5.50</td>\n",
              "    </tr>\n",
              "    <tr>\n",
              "      <th>3</th>\n",
              "      <td>Gafanhoto</td>\n",
              "      <td>0.65</td>\n",
              "      <td>4.50</td>\n",
              "    </tr>\n",
              "    <tr>\n",
              "      <th>4</th>\n",
              "      <td>Gafanhoto</td>\n",
              "      <td>0.54</td>\n",
              "      <td>3.20</td>\n",
              "    </tr>\n",
              "    <tr>\n",
              "      <th>5</th>\n",
              "      <td>Gafanhoto</td>\n",
              "      <td>3.00</td>\n",
              "      <td>2.20</td>\n",
              "    </tr>\n",
              "    <tr>\n",
              "      <th>6</th>\n",
              "      <td>Gafanhoto</td>\n",
              "      <td>2.00</td>\n",
              "      <td>1.75</td>\n",
              "    </tr>\n",
              "    <tr>\n",
              "      <th>7</th>\n",
              "      <td>Gafanhoto</td>\n",
              "      <td>1.00</td>\n",
              "      <td>1.00</td>\n",
              "    </tr>\n",
              "    <tr>\n",
              "      <th>8</th>\n",
              "      <td>Gafanhoto</td>\n",
              "      <td>1.10</td>\n",
              "      <td>0.89</td>\n",
              "    </tr>\n",
              "    <tr>\n",
              "      <th>9</th>\n",
              "      <td>Gafanhoto</td>\n",
              "      <td>1.20</td>\n",
              "      <td>1.00</td>\n",
              "    </tr>\n",
              "  </tbody>\n",
              "</table>\n",
              "</div>"
            ],
            "text/plain": [
              "     Espécie  Comprimento do Abdômen  Comprimento das Antenas\n",
              "0  Gafanhoto                    0.50                     7.00\n",
              "1  Gafanhoto                    0.50                     6.00\n",
              "2  Gafanhoto                    0.60                     5.50\n",
              "3  Gafanhoto                    0.65                     4.50\n",
              "4  Gafanhoto                    0.54                     3.20\n",
              "5  Gafanhoto                    3.00                     2.20\n",
              "6  Gafanhoto                    2.00                     1.75\n",
              "7  Gafanhoto                    1.00                     1.00\n",
              "8  Gafanhoto                    1.10                     0.89\n",
              "9  Gafanhoto                    1.20                     1.00"
            ]
          },
          "execution_count": 4,
          "metadata": {},
          "output_type": "execute_result"
        }
      ],
      "source": [
        "dados.head(10) # passando 10 como argumento do método head"
      ]
    },
    {
      "cell_type": "markdown",
      "id": "9cc34282",
      "metadata": {
        "id": "9cc34282"
      },
      "source": [
        "No pandas podemos acessar as colunas através do nome, de forma parecida com um dicionário:"
      ]
    },
    {
      "cell_type": "code",
      "execution_count": null,
      "id": "caa3da0d",
      "metadata": {
        "id": "caa3da0d",
        "outputId": "aa013d75-3211-4a5f-83d9-dd1fa2bd50c0"
      },
      "outputs": [
        {
          "data": {
            "text/plain": [
              "0     Gafanhoto\n",
              "1     Gafanhoto\n",
              "2     Gafanhoto\n",
              "3     Gafanhoto\n",
              "4     Gafanhoto\n",
              "        ...    \n",
              "95    Esperança\n",
              "96    Esperança\n",
              "97    Esperança\n",
              "98    Esperança\n",
              "99    Esperança\n",
              "Name: Espécie, Length: 100, dtype: object"
            ]
          },
          "execution_count": 5,
          "metadata": {},
          "output_type": "execute_result"
        }
      ],
      "source": [
        "dados['Espécie']"
      ]
    },
    {
      "cell_type": "markdown",
      "id": "c9447489",
      "metadata": {
        "id": "c9447489"
      },
      "source": [
        "Vejamos quais são os tipos da estruturas de dados de uma **Tabela Pandas** e de uma **Coluna Pandas**:"
      ]
    },
    {
      "cell_type": "code",
      "execution_count": null,
      "id": "e48d6839",
      "metadata": {
        "id": "e48d6839",
        "outputId": "1f21a622-c134-4fde-b040-bcbc60011cd6"
      },
      "outputs": [
        {
          "data": {
            "text/plain": [
              "pandas.core.frame.DataFrame"
            ]
          },
          "execution_count": 6,
          "metadata": {},
          "output_type": "execute_result"
        }
      ],
      "source": [
        "type(dados) # As tabelas dos pandas são objetos chamados de dataframes"
      ]
    },
    {
      "cell_type": "code",
      "execution_count": null,
      "id": "981807cf",
      "metadata": {
        "id": "981807cf",
        "outputId": "63fb8039-a163-4de8-8098-cdb8d42b2144"
      },
      "outputs": [
        {
          "data": {
            "text/plain": [
              "pandas.core.series.Series"
            ]
          },
          "execution_count": 7,
          "metadata": {},
          "output_type": "execute_result"
        }
      ],
      "source": [
        "type(dados['Espécie']) # Já as colunas são objetos chamados de séries"
      ]
    },
    {
      "cell_type": "markdown",
      "id": "a8c79b8c",
      "metadata": {
        "id": "a8c79b8c"
      },
      "source": [
        "Para transformar uma série em uma lista nativa do Python, podemos fazer:"
      ]
    },
    {
      "cell_type": "code",
      "execution_count": null,
      "id": "19426940",
      "metadata": {
        "id": "19426940",
        "outputId": "495346d6-f4ad-4ba2-a50c-6a4ef6a4222d"
      },
      "outputs": [
        {
          "data": {
            "text/plain": [
              "['Gafanhoto',\n",
              " 'Gafanhoto',\n",
              " 'Gafanhoto',\n",
              " 'Gafanhoto',\n",
              " 'Gafanhoto',\n",
              " 'Gafanhoto',\n",
              " 'Gafanhoto',\n",
              " 'Gafanhoto',\n",
              " 'Gafanhoto',\n",
              " 'Gafanhoto',\n",
              " 'Gafanhoto',\n",
              " 'Gafanhoto',\n",
              " 'Gafanhoto',\n",
              " 'Gafanhoto',\n",
              " 'Gafanhoto',\n",
              " 'Gafanhoto',\n",
              " 'Gafanhoto',\n",
              " 'Gafanhoto',\n",
              " 'Gafanhoto',\n",
              " 'Gafanhoto',\n",
              " 'Gafanhoto',\n",
              " 'Gafanhoto',\n",
              " 'Gafanhoto',\n",
              " 'Gafanhoto',\n",
              " 'Gafanhoto',\n",
              " 'Gafanhoto',\n",
              " 'Gafanhoto',\n",
              " 'Gafanhoto',\n",
              " 'Gafanhoto',\n",
              " 'Gafanhoto',\n",
              " 'Gafanhoto',\n",
              " 'Gafanhoto',\n",
              " 'Gafanhoto',\n",
              " 'Gafanhoto',\n",
              " 'Gafanhoto',\n",
              " 'Gafanhoto',\n",
              " 'Gafanhoto',\n",
              " 'Gafanhoto',\n",
              " 'Gafanhoto',\n",
              " 'Gafanhoto',\n",
              " 'Gafanhoto',\n",
              " 'Gafanhoto',\n",
              " 'Gafanhoto',\n",
              " 'Gafanhoto',\n",
              " 'Gafanhoto',\n",
              " 'Gafanhoto',\n",
              " 'Gafanhoto',\n",
              " 'Gafanhoto',\n",
              " 'Gafanhoto',\n",
              " 'Gafanhoto',\n",
              " 'Esperança',\n",
              " 'Esperança',\n",
              " 'Esperança',\n",
              " 'Esperança',\n",
              " 'Esperança',\n",
              " 'Esperança',\n",
              " 'Esperança',\n",
              " 'Esperança',\n",
              " 'Esperança',\n",
              " 'Esperança',\n",
              " 'Esperança',\n",
              " 'Esperança',\n",
              " 'Esperança',\n",
              " 'Esperança',\n",
              " 'Esperança',\n",
              " 'Esperança',\n",
              " 'Esperança',\n",
              " 'Esperança',\n",
              " 'Esperança',\n",
              " 'Esperança',\n",
              " 'Esperança',\n",
              " 'Esperança',\n",
              " 'Esperança',\n",
              " 'Esperança',\n",
              " 'Esperança',\n",
              " 'Esperança',\n",
              " 'Esperança',\n",
              " 'Esperança',\n",
              " 'Esperança',\n",
              " 'Esperança',\n",
              " 'Esperança',\n",
              " 'Esperança',\n",
              " 'Esperança',\n",
              " 'Esperança',\n",
              " 'Esperança',\n",
              " 'Esperança',\n",
              " 'Esperança',\n",
              " 'Esperança',\n",
              " 'Esperança',\n",
              " 'Esperança',\n",
              " 'Esperança',\n",
              " 'Esperança',\n",
              " 'Esperança',\n",
              " 'Esperança',\n",
              " 'Esperança',\n",
              " 'Esperança',\n",
              " 'Esperança',\n",
              " 'Esperança',\n",
              " 'Esperança',\n",
              " 'Esperança']"
            ]
          },
          "execution_count": 8,
          "metadata": {},
          "output_type": "execute_result"
        }
      ],
      "source": [
        "list(dados['Espécie'])"
      ]
    },
    {
      "cell_type": "markdown",
      "id": "4a8abac8",
      "metadata": {
        "id": "4a8abac8"
      },
      "source": [
        "Agora vamos usar isso para contar quantos exemplos (entradas) temos de cada espécie:"
      ]
    },
    {
      "cell_type": "code",
      "execution_count": null,
      "id": "b523724e",
      "metadata": {
        "id": "b523724e",
        "outputId": "739b0553-d77b-48ea-cb24-532fc2ebc369"
      },
      "outputs": [
        {
          "data": {
            "text/plain": [
              "50"
            ]
          },
          "execution_count": 9,
          "metadata": {},
          "output_type": "execute_result"
        }
      ],
      "source": [
        "list(dados['Espécie']).count('Gafanhoto')"
      ]
    },
    {
      "cell_type": "code",
      "execution_count": null,
      "id": "9efd90bc",
      "metadata": {
        "id": "9efd90bc",
        "outputId": "12672c61-5113-4cb7-e015-f0b2e7277315"
      },
      "outputs": [
        {
          "data": {
            "text/plain": [
              "50"
            ]
          },
          "execution_count": 10,
          "metadata": {},
          "output_type": "execute_result"
        }
      ],
      "source": [
        "list(dados['Espécie']).count('Esperança')"
      ]
    },
    {
      "cell_type": "markdown",
      "id": "c4da5cc7",
      "metadata": {
        "id": "c4da5cc7"
      },
      "source": [
        "### Estatísticas\n",
        "\n",
        "Vamos calcular algumas estatísticas"
      ]
    },
    {
      "cell_type": "code",
      "execution_count": null,
      "id": "7c1dc1a9",
      "metadata": {
        "id": "7c1dc1a9"
      },
      "outputs": [],
      "source": [
        "import statistics"
      ]
    },
    {
      "cell_type": "code",
      "execution_count": null,
      "id": "f1078cf0",
      "metadata": {
        "id": "f1078cf0"
      },
      "outputs": [],
      "source": [
        "media_cab = statistics.mean(dados['Comprimento do Abdômen']) # Média do Comp. Abdômen\n",
        "media_can = statistics.mean(dados['Comprimento das Antenas']) # Média do Comp. Antena\n",
        "std_cab = statistics.stdev(dados['Comprimento do Abdômen']) # Desvio Padrão Amostral do Comp. Abdômen\n",
        "std_can = statistics.stdev(dados['Comprimento das Antenas']) # Desvio Padrão Amostra do Com. Antena"
      ]
    },
    {
      "cell_type": "code",
      "execution_count": null,
      "id": "57b269af",
      "metadata": {
        "id": "57b269af",
        "outputId": "7a358406-b8d8-48a3-d8c8-253ab2c156fd"
      },
      "outputs": [
        {
          "name": "stdout",
          "output_type": "stream",
          "text": [
            "Média Comp. Abdômen:  4.9362\n",
            "Média Comp. Antena:  5.3824\n",
            "Desvio Padrão Amostral do Comp. Abdômen:  3.3438062084391134\n",
            "Desvio Padrão Amostral do Comp. Antena:  2.2960005279272964\n"
          ]
        }
      ],
      "source": [
        "print('Média Comp. Abdômen: ', media_cab)\n",
        "print('Média Comp. Antena: ', media_can)\n",
        "print('Desvio Padrão Amostral do Comp. Abdômen: ', std_cab)\n",
        "print('Desvio Padrão Amostral do Comp. Antena: ', std_can)"
      ]
    },
    {
      "cell_type": "markdown",
      "id": "3e2314cb",
      "metadata": {
        "id": "3e2314cb"
      },
      "source": [
        "Esses valores foram calculados para todos os dados.\n",
        "\n",
        "Vamos recalcular para cada uma das espécies.\n",
        "\n",
        "Para isso, vamos separar os dados em dois dataframes:"
      ]
    },
    {
      "cell_type": "code",
      "execution_count": null,
      "id": "3403c3bb",
      "metadata": {
        "id": "3403c3bb"
      },
      "outputs": [],
      "source": [
        "dados_gaf = dados[dados['Espécie']=='Gafanhoto'] # Aqui estamos criando um dataframe só com gafanhotos"
      ]
    },
    {
      "cell_type": "code",
      "execution_count": null,
      "id": "bea00571",
      "metadata": {
        "id": "bea00571",
        "outputId": "66bf9035-abbe-4e80-92d5-ac9da0fd51b1"
      },
      "outputs": [
        {
          "data": {
            "text/html": [
              "<div>\n",
              "<style scoped>\n",
              "    .dataframe tbody tr th:only-of-type {\n",
              "        vertical-align: middle;\n",
              "    }\n",
              "\n",
              "    .dataframe tbody tr th {\n",
              "        vertical-align: top;\n",
              "    }\n",
              "\n",
              "    .dataframe thead th {\n",
              "        text-align: right;\n",
              "    }\n",
              "</style>\n",
              "<table border=\"1\" class=\"dataframe\">\n",
              "  <thead>\n",
              "    <tr style=\"text-align: right;\">\n",
              "      <th></th>\n",
              "      <th>Espécie</th>\n",
              "      <th>Comprimento do Abdômen</th>\n",
              "      <th>Comprimento das Antenas</th>\n",
              "    </tr>\n",
              "  </thead>\n",
              "  <tbody>\n",
              "    <tr>\n",
              "      <th>0</th>\n",
              "      <td>Gafanhoto</td>\n",
              "      <td>0.50</td>\n",
              "      <td>7.0</td>\n",
              "    </tr>\n",
              "    <tr>\n",
              "      <th>1</th>\n",
              "      <td>Gafanhoto</td>\n",
              "      <td>0.50</td>\n",
              "      <td>6.0</td>\n",
              "    </tr>\n",
              "    <tr>\n",
              "      <th>2</th>\n",
              "      <td>Gafanhoto</td>\n",
              "      <td>0.60</td>\n",
              "      <td>5.5</td>\n",
              "    </tr>\n",
              "    <tr>\n",
              "      <th>3</th>\n",
              "      <td>Gafanhoto</td>\n",
              "      <td>0.65</td>\n",
              "      <td>4.5</td>\n",
              "    </tr>\n",
              "    <tr>\n",
              "      <th>4</th>\n",
              "      <td>Gafanhoto</td>\n",
              "      <td>0.54</td>\n",
              "      <td>3.2</td>\n",
              "    </tr>\n",
              "  </tbody>\n",
              "</table>\n",
              "</div>"
            ],
            "text/plain": [
              "     Espécie  Comprimento do Abdômen  Comprimento das Antenas\n",
              "0  Gafanhoto                    0.50                      7.0\n",
              "1  Gafanhoto                    0.50                      6.0\n",
              "2  Gafanhoto                    0.60                      5.5\n",
              "3  Gafanhoto                    0.65                      4.5\n",
              "4  Gafanhoto                    0.54                      3.2"
            ]
          },
          "execution_count": 15,
          "metadata": {},
          "output_type": "execute_result"
        }
      ],
      "source": [
        "dados_gaf.head()"
      ]
    },
    {
      "cell_type": "code",
      "execution_count": null,
      "id": "cca1f832",
      "metadata": {
        "id": "cca1f832"
      },
      "outputs": [],
      "source": [
        "dados_esp = dados[dados['Espécie']=='Esperança'] # E aqui um dataframe só com esperanças"
      ]
    },
    {
      "cell_type": "code",
      "execution_count": null,
      "id": "62c70373",
      "metadata": {
        "id": "62c70373",
        "outputId": "121f0392-b803-4edf-e4ad-f5fd778af8b0"
      },
      "outputs": [
        {
          "data": {
            "text/html": [
              "<div>\n",
              "<style scoped>\n",
              "    .dataframe tbody tr th:only-of-type {\n",
              "        vertical-align: middle;\n",
              "    }\n",
              "\n",
              "    .dataframe tbody tr th {\n",
              "        vertical-align: top;\n",
              "    }\n",
              "\n",
              "    .dataframe thead th {\n",
              "        text-align: right;\n",
              "    }\n",
              "</style>\n",
              "<table border=\"1\" class=\"dataframe\">\n",
              "  <thead>\n",
              "    <tr style=\"text-align: right;\">\n",
              "      <th></th>\n",
              "      <th>Espécie</th>\n",
              "      <th>Comprimento do Abdômen</th>\n",
              "      <th>Comprimento das Antenas</th>\n",
              "    </tr>\n",
              "  </thead>\n",
              "  <tbody>\n",
              "    <tr>\n",
              "      <th>50</th>\n",
              "      <td>Esperança</td>\n",
              "      <td>8.3</td>\n",
              "      <td>6.6</td>\n",
              "    </tr>\n",
              "    <tr>\n",
              "      <th>51</th>\n",
              "      <td>Esperança</td>\n",
              "      <td>8.1</td>\n",
              "      <td>4.7</td>\n",
              "    </tr>\n",
              "    <tr>\n",
              "      <th>52</th>\n",
              "      <td>Esperança</td>\n",
              "      <td>8.0</td>\n",
              "      <td>9.1</td>\n",
              "    </tr>\n",
              "    <tr>\n",
              "      <th>53</th>\n",
              "      <td>Esperança</td>\n",
              "      <td>5.4</td>\n",
              "      <td>8.5</td>\n",
              "    </tr>\n",
              "    <tr>\n",
              "      <th>54</th>\n",
              "      <td>Esperança</td>\n",
              "      <td>10.0</td>\n",
              "      <td>4.5</td>\n",
              "    </tr>\n",
              "  </tbody>\n",
              "</table>\n",
              "</div>"
            ],
            "text/plain": [
              "      Espécie  Comprimento do Abdômen  Comprimento das Antenas\n",
              "50  Esperança                     8.3                      6.6\n",
              "51  Esperança                     8.1                      4.7\n",
              "52  Esperança                     8.0                      9.1\n",
              "53  Esperança                     5.4                      8.5\n",
              "54  Esperança                    10.0                      4.5"
            ]
          },
          "execution_count": 17,
          "metadata": {},
          "output_type": "execute_result"
        }
      ],
      "source": [
        "dados_esp.head()"
      ]
    },
    {
      "cell_type": "code",
      "execution_count": null,
      "id": "ac0a91f7",
      "metadata": {
        "id": "ac0a91f7"
      },
      "outputs": [],
      "source": [
        "media_cab_gaf = statistics.mean(dados_gaf['Comprimento do Abdômen']) # Média do Comp. Abdômen\n",
        "media_can_gaf = statistics.mean(dados_gaf['Comprimento das Antenas']) # Média do Comp. Antena\n",
        "std_cab_gaf = statistics.stdev(dados_gaf['Comprimento do Abdômen']) # Desvio Padrão Amostral do Comp. Abdômen\n",
        "std_can_gaf = statistics.stdev(dados_gaf['Comprimento das Antenas']) # Desvio Padrão Amostra do Com. Antena"
      ]
    },
    {
      "cell_type": "code",
      "execution_count": null,
      "id": "103f1c84",
      "metadata": {
        "id": "103f1c84",
        "outputId": "89dd5b7d-583b-4a7a-f165-d3a269ce0612"
      },
      "outputs": [
        {
          "name": "stdout",
          "output_type": "stream",
          "text": [
            "Média Comp. Abdômen:  1.7518\n",
            "Média Comp. Antena:  3.5492\n",
            "Desvio Padrão Amostral do Comp. Abdômen:  0.7869410941832214\n",
            "Desvio Padrão Amostral do Comp. Antena:  1.41786105073229\n"
          ]
        }
      ],
      "source": [
        "print('Média Comp. Abdômen: ', media_cab_gaf)\n",
        "print('Média Comp. Antena: ', media_can_gaf)\n",
        "print('Desvio Padrão Amostral do Comp. Abdômen: ', std_cab_gaf)\n",
        "print('Desvio Padrão Amostral do Comp. Antena: ', std_can_gaf)"
      ]
    },
    {
      "cell_type": "code",
      "execution_count": null,
      "id": "4cf58f56",
      "metadata": {
        "id": "4cf58f56"
      },
      "outputs": [],
      "source": [
        "media_cab_esp = statistics.mean(dados_esp['Comprimento do Abdômen']) # Média do Comp. Abdômen\n",
        "media_can_esp = statistics.mean(dados_esp['Comprimento das Antenas']) # Média do Comp. Antena\n",
        "std_cab_esp = statistics.stdev(dados_esp['Comprimento do Abdômen']) # Desvio Padrão Amostral do Comp. Abdômen\n",
        "std_can_esp = statistics.stdev(dados_esp['Comprimento das Antenas']) # Desvio Padrão Amostra do Com. Antena"
      ]
    },
    {
      "cell_type": "code",
      "execution_count": null,
      "id": "c5abfcbe",
      "metadata": {
        "id": "c5abfcbe",
        "outputId": "8bebbcc6-c199-42ab-f236-09d572279074"
      },
      "outputs": [
        {
          "name": "stdout",
          "output_type": "stream",
          "text": [
            "Média Comp. Abdômen:  8.1206\n",
            "Média Comp. Antena:  7.2156\n",
            "Desvio Padrão Amostral do Comp. Abdômen:  1.1297289001150241\n",
            "Desvio Padrão Amostral do Comp. Antena:  1.334945019123122\n"
          ]
        }
      ],
      "source": [
        "print('Média Comp. Abdômen: ', media_cab_esp)\n",
        "print('Média Comp. Antena: ', media_can_esp)\n",
        "print('Desvio Padrão Amostral do Comp. Abdômen: ', std_cab_esp)\n",
        "print('Desvio Padrão Amostral do Comp. Antena: ', std_can_esp)"
      ]
    },
    {
      "cell_type": "markdown",
      "id": "c1abc642",
      "metadata": {
        "id": "c1abc642"
      },
      "source": [
        "### Gráficos\n",
        "\n",
        "Vamos começar plotando os histogramas usando o Seaborn e o Matplotlib:"
      ]
    },
    {
      "cell_type": "code",
      "execution_count": null,
      "id": "1ff62ac9",
      "metadata": {
        "id": "1ff62ac9"
      },
      "outputs": [],
      "source": [
        "import matplotlib.pyplot as plt\n",
        "import seaborn as sns"
      ]
    },
    {
      "cell_type": "code",
      "execution_count": null,
      "id": "5d3d9344",
      "metadata": {
        "id": "5d3d9344",
        "outputId": "3da3bb35-f568-41dd-b53f-ee170336068c"
      },
      "outputs": [
        {
          "ename": "TypeError",
          "evalue": "__init__() got an unexpected keyword argument 'fontsize'",
          "output_type": "error",
          "traceback": [
            "\u001b[1;31m---------------------------------------------------------------------------\u001b[0m",
            "\u001b[1;31mTypeError\u001b[0m                                 Traceback (most recent call last)",
            "\u001b[1;32m<ipython-input-23-71bb4e6c152c>\u001b[0m in \u001b[0;36m<module>\u001b[1;34m\u001b[0m\n\u001b[1;32m----> 1\u001b[1;33m \u001b[0mfig\u001b[0m \u001b[1;33m=\u001b[0m \u001b[0mplt\u001b[0m\u001b[1;33m.\u001b[0m\u001b[0mfigure\u001b[0m\u001b[1;33m(\u001b[0m\u001b[0mfigsize\u001b[0m\u001b[1;33m=\u001b[0m\u001b[1;33m(\u001b[0m\u001b[1;36m14\u001b[0m\u001b[1;33m,\u001b[0m \u001b[1;36m40\u001b[0m\u001b[1;33m)\u001b[0m\u001b[1;33m,\u001b[0m \u001b[0mdpi\u001b[0m\u001b[1;33m=\u001b[0m\u001b[1;36m80\u001b[0m\u001b[1;33m,\u001b[0m \u001b[0mfontsize\u001b[0m\u001b[1;33m=\u001b[0m\u001b[1;36m20\u001b[0m\u001b[1;33m)\u001b[0m\u001b[1;33m\u001b[0m\u001b[1;33m\u001b[0m\u001b[0m\n\u001b[0m\u001b[0;32m      2\u001b[0m \u001b[0mfig\u001b[0m\u001b[1;33m.\u001b[0m\u001b[0msuptitle\u001b[0m\u001b[1;33m(\u001b[0m\u001b[1;34m'Todos os Dados'\u001b[0m\u001b[1;33m)\u001b[0m\u001b[1;33m\u001b[0m\u001b[1;33m\u001b[0m\u001b[0m\n\u001b[0;32m      3\u001b[0m \u001b[1;33m\u001b[0m\u001b[0m\n\u001b[0;32m      4\u001b[0m \u001b[1;33m\u001b[0m\u001b[0m\n\u001b[0;32m      5\u001b[0m sns.histplot(ax=axes[0],\n",
            "\u001b[1;32mD:\\Programas\\Python\\lib\\site-packages\\matplotlib\\pyplot.py\u001b[0m in \u001b[0;36mfigure\u001b[1;34m(num, figsize, dpi, facecolor, edgecolor, frameon, FigureClass, clear, **kwargs)\u001b[0m\n\u001b[0;32m    795\u001b[0m                 RuntimeWarning)\n\u001b[0;32m    796\u001b[0m \u001b[1;33m\u001b[0m\u001b[0m\n\u001b[1;32m--> 797\u001b[1;33m         manager = new_figure_manager(\n\u001b[0m\u001b[0;32m    798\u001b[0m             \u001b[0mnum\u001b[0m\u001b[1;33m,\u001b[0m \u001b[0mfigsize\u001b[0m\u001b[1;33m=\u001b[0m\u001b[0mfigsize\u001b[0m\u001b[1;33m,\u001b[0m \u001b[0mdpi\u001b[0m\u001b[1;33m=\u001b[0m\u001b[0mdpi\u001b[0m\u001b[1;33m,\u001b[0m\u001b[1;33m\u001b[0m\u001b[1;33m\u001b[0m\u001b[0m\n\u001b[0;32m    799\u001b[0m             \u001b[0mfacecolor\u001b[0m\u001b[1;33m=\u001b[0m\u001b[0mfacecolor\u001b[0m\u001b[1;33m,\u001b[0m \u001b[0medgecolor\u001b[0m\u001b[1;33m=\u001b[0m\u001b[0medgecolor\u001b[0m\u001b[1;33m,\u001b[0m \u001b[0mframeon\u001b[0m\u001b[1;33m=\u001b[0m\u001b[0mframeon\u001b[0m\u001b[1;33m,\u001b[0m\u001b[1;33m\u001b[0m\u001b[1;33m\u001b[0m\u001b[0m\n",
            "\u001b[1;32mD:\\Programas\\Python\\lib\\site-packages\\matplotlib\\pyplot.py\u001b[0m in \u001b[0;36mnew_figure_manager\u001b[1;34m(*args, **kwargs)\u001b[0m\n\u001b[0;32m    314\u001b[0m     \u001b[1;34m\"\"\"Create a new figure manager instance.\"\"\"\u001b[0m\u001b[1;33m\u001b[0m\u001b[1;33m\u001b[0m\u001b[0m\n\u001b[0;32m    315\u001b[0m     \u001b[0m_warn_if_gui_out_of_main_thread\u001b[0m\u001b[1;33m(\u001b[0m\u001b[1;33m)\u001b[0m\u001b[1;33m\u001b[0m\u001b[1;33m\u001b[0m\u001b[0m\n\u001b[1;32m--> 316\u001b[1;33m     \u001b[1;32mreturn\u001b[0m \u001b[0m_backend_mod\u001b[0m\u001b[1;33m.\u001b[0m\u001b[0mnew_figure_manager\u001b[0m\u001b[1;33m(\u001b[0m\u001b[1;33m*\u001b[0m\u001b[0margs\u001b[0m\u001b[1;33m,\u001b[0m \u001b[1;33m**\u001b[0m\u001b[0mkwargs\u001b[0m\u001b[1;33m)\u001b[0m\u001b[1;33m\u001b[0m\u001b[1;33m\u001b[0m\u001b[0m\n\u001b[0m\u001b[0;32m    317\u001b[0m \u001b[1;33m\u001b[0m\u001b[0m\n\u001b[0;32m    318\u001b[0m \u001b[1;33m\u001b[0m\u001b[0m\n",
            "\u001b[1;32mD:\\Programas\\Python\\lib\\site-packages\\matplotlib\\backend_bases.py\u001b[0m in \u001b[0;36mnew_figure_manager\u001b[1;34m(cls, num, *args, **kwargs)\u001b[0m\n\u001b[0;32m   3542\u001b[0m         \u001b[1;32mfrom\u001b[0m \u001b[0mmatplotlib\u001b[0m\u001b[1;33m.\u001b[0m\u001b[0mfigure\u001b[0m \u001b[1;32mimport\u001b[0m \u001b[0mFigure\u001b[0m\u001b[1;33m\u001b[0m\u001b[1;33m\u001b[0m\u001b[0m\n\u001b[0;32m   3543\u001b[0m         \u001b[0mfig_cls\u001b[0m \u001b[1;33m=\u001b[0m \u001b[0mkwargs\u001b[0m\u001b[1;33m.\u001b[0m\u001b[0mpop\u001b[0m\u001b[1;33m(\u001b[0m\u001b[1;34m'FigureClass'\u001b[0m\u001b[1;33m,\u001b[0m \u001b[0mFigure\u001b[0m\u001b[1;33m)\u001b[0m\u001b[1;33m\u001b[0m\u001b[1;33m\u001b[0m\u001b[0m\n\u001b[1;32m-> 3544\u001b[1;33m         \u001b[0mfig\u001b[0m \u001b[1;33m=\u001b[0m \u001b[0mfig_cls\u001b[0m\u001b[1;33m(\u001b[0m\u001b[1;33m*\u001b[0m\u001b[0margs\u001b[0m\u001b[1;33m,\u001b[0m \u001b[1;33m**\u001b[0m\u001b[0mkwargs\u001b[0m\u001b[1;33m)\u001b[0m\u001b[1;33m\u001b[0m\u001b[1;33m\u001b[0m\u001b[0m\n\u001b[0m\u001b[0;32m   3545\u001b[0m         \u001b[1;32mreturn\u001b[0m \u001b[0mcls\u001b[0m\u001b[1;33m.\u001b[0m\u001b[0mnew_figure_manager_given_figure\u001b[0m\u001b[1;33m(\u001b[0m\u001b[0mnum\u001b[0m\u001b[1;33m,\u001b[0m \u001b[0mfig\u001b[0m\u001b[1;33m)\u001b[0m\u001b[1;33m\u001b[0m\u001b[1;33m\u001b[0m\u001b[0m\n\u001b[0;32m   3546\u001b[0m \u001b[1;33m\u001b[0m\u001b[0m\n",
            "\u001b[1;31mTypeError\u001b[0m: __init__() got an unexpected keyword argument 'fontsize'"
          ]
        }
      ],
      "source": [
        "fig = plt.figure(figsize=(14, 40), dpi=80, fontsize=20)\n",
        "fig.suptitle('Todos os Dados')\n",
        "\n",
        "\n",
        "sns.histplot(ax=axes[0],\n",
        "            data=dados['Comprimento do Abdômen'],  # Perceba que estamos passando a coluna do dataframe completo\n",
        "            kde=True,\n",
        "            bins=10,\n",
        "            linewidth=0.7,\n",
        "            )\n",
        "\n",
        "sns.histplot(ax=axes[1],\n",
        "            data=dados['Comprimento das Antenas'],\n",
        "            kde=True,\n",
        "            bins=10,\n",
        "            linewidth=0.7,\n",
        "            )\n",
        "\n",
        "axes[0].set(xlabel='Comprimento do Abdômen', ylabel='Contagem')\n",
        "axes[1].set(xlabel='Comprimento das Antenas', ylabel='Contagem')"
      ]
    },
    {
      "cell_type": "code",
      "execution_count": null,
      "id": "53ec93cc",
      "metadata": {
        "id": "53ec93cc",
        "outputId": "c878be2d-2336-4fa1-f833-f5203e596fa6"
      },
      "outputs": [
        {
          "data": {
            "text/plain": [
              "[Text(0.5, 0, 'Comprimento das Antenas'), Text(0, 0.5, 'Contagem')]"
            ]
          },
          "execution_count": 24,
          "metadata": {},
          "output_type": "execute_result"
        },
        {
          "data": {
            "image/png": "[encoded data removed]",
            "text/plain": [
              "<Figure size 720x288 with 2 Axes>"
            ]
          },
          "metadata": {
            "needs_background": "light"
          },
          "output_type": "display_data"
        }
      ],
      "source": [
        "fig, axes = plt.subplots(1, 2, figsize=(10, 4))\n",
        "fig.suptitle('Dados dos Gafanhotos')\n",
        "\n",
        "\n",
        "sns.histplot(ax=axes[0],\n",
        "            data=dados_gaf['Comprimento do Abdômen'], # Agora a coluna do dataframe só com gafanhotos\n",
        "            kde=True,\n",
        "            bins=10,\n",
        "            linewidth=0.7,\n",
        "            color='green'\n",
        "            )\n",
        "\n",
        "sns.histplot(ax=axes[1],\n",
        "            data=dados_gaf['Comprimento das Antenas'],\n",
        "            kde=True,\n",
        "            bins=10,\n",
        "            linewidth=0.7,\n",
        "            color='green'\n",
        "            )\n",
        "\n",
        "axes[0].set(xlabel='Comprimento do Abdômen', ylabel='Contagem')\n",
        "axes[1].set(xlabel='Comprimento das Antenas', ylabel='Contagem')"
      ]
    },
    {
      "cell_type": "code",
      "execution_count": null,
      "id": "403d2784",
      "metadata": {
        "id": "403d2784",
        "outputId": "1e217bfe-023c-44da-b9c5-dace391c4e49"
      },
      "outputs": [
        {
          "data": {
            "text/plain": [
              "[Text(0.5, 0, 'Comprimento das Antenas'), Text(0, 0.5, 'Contagem')]"
            ]
          },
          "execution_count": 25,
          "metadata": {},
          "output_type": "execute_result"
        },
        {
          "data": {
            "image/png": "[encoded data removed]",
            "text/plain": [
              "<Figure size 720x288 with 2 Axes>"
            ]
          },
          "metadata": {
            "needs_background": "light"
          },
          "output_type": "display_data"
        }
      ],
      "source": [
        "fig, axes = plt.subplots(1, 2, figsize=(10, 4))\n",
        "fig.suptitle('Dados das Esperanças')\n",
        "\n",
        "\n",
        "sns.histplot(ax=axes[0],\n",
        "            data=dados_esp['Comprimento do Abdômen'],\n",
        "            kde=True,\n",
        "            bins=10,\n",
        "            linewidth=0.7,\n",
        "            color = 'red'\n",
        "            )\n",
        "\n",
        "sns.histplot(ax=axes[1],\n",
        "            data=dados_esp['Comprimento das Antenas'],\n",
        "            kde=True,\n",
        "            bins=10,\n",
        "            linewidth=0.7,\n",
        "            color = 'red'\n",
        "            )\n",
        "\n",
        "axes[0].set(xlabel='Comprimento do Abdômen', ylabel='Contagem')\n",
        "axes[1].set(xlabel='Comprimento das Antenas', ylabel='Contagem')"
      ]
    },
    {
      "cell_type": "markdown",
      "id": "a387aba9",
      "metadata": {
        "id": "a387aba9"
      },
      "source": [
        "Vamos ver um boxplot:"
      ]
    },
    {
      "cell_type": "code",
      "execution_count": null,
      "id": "a0582780",
      "metadata": {
        "id": "a0582780",
        "outputId": "c35d85a4-7318-4d28-a089-2a93d7fbe7c0"
      },
      "outputs": [
        {
          "data": {
            "text/plain": [
              "<AxesSubplot:xlabel='Espécie', ylabel='Comprimento das Antenas'>"
            ]
          },
          "execution_count": 26,
          "metadata": {},
          "output_type": "execute_result"
        },
        {
          "data": {
            "image/png": "[encoded data removed]",
            "text/plain": [
              "<Figure size 720x288 with 2 Axes>"
            ]
          },
          "metadata": {
            "needs_background": "light"
          },
          "output_type": "display_data"
        }
      ],
      "source": [
        "fig, axes = plt.subplots(1, 2, figsize=(10, 4))\n",
        "fig.suptitle('Dados das Esperanças')\n",
        "\n",
        "sns.boxplot(x=\"Espécie\", y=\"Comprimento do Abdômen\",\n",
        "            palette=[\"g\", \"r\"],\n",
        "            linewidth=0.7,\n",
        "            ax=axes[0],\n",
        "            data=dados\n",
        "           )\n",
        "\n",
        "sns.boxplot(x=\"Espécie\", y=\"Comprimento das Antenas\",\n",
        "            palette=[\"g\", \"r\"],\n",
        "            linewidth=0.7,\n",
        "            ax=axes[1],\n",
        "            data=dados\n",
        "           )"
      ]
    },
    {
      "cell_type": "markdown",
      "id": "c4e10a8e",
      "metadata": {
        "id": "c4e10a8e"
      },
      "source": [
        "Vamos ver agora um gráfico de dispersão do Comprimento das Antenas em função do Comprimento do Abdômen. Vamos adicionar os histogramas de cada variável na lateral do eixo correspondente. Também vamos indicar para o método do Seaborn que existem duas espécies."
      ]
    },
    {
      "cell_type": "code",
      "execution_count": null,
      "id": "e877a067",
      "metadata": {
        "id": "e877a067",
        "outputId": "534096e6-61f6-4689-a24d-add640e26af0"
      },
      "outputs": [
        {
          "data": {
            "text/plain": [
              "<seaborn.axisgrid.JointGrid at 0x220bbef9eb0>"
            ]
          },
          "execution_count": 27,
          "metadata": {},
          "output_type": "execute_result"
        },
        {
          "data": {
            "image/png": "[encoded data removed]",
            "text/plain": [
              "<Figure size 360x360 with 3 Axes>"
            ]
          },
          "metadata": {
            "needs_background": "light"
          },
          "output_type": "display_data"
        }
      ],
      "source": [
        "sns.jointplot(data=dados,\n",
        "              x=\"Comprimento do Abdômen\", y=\"Comprimento das Antenas\",\n",
        "              height=5,\n",
        "              ratio=2,\n",
        "              marginal_ticks=True,\n",
        "              hue = 'Espécie'\n",
        "             )"
      ]
    },
    {
      "cell_type": "markdown",
      "id": "7afa969c",
      "metadata": {
        "id": "7afa969c"
      },
      "source": [
        "----------------------\n",
        "## Exemplo 2 - Botânica: Íris Dataset\n",
        "\n",
        "Esse dataset contém medidas da largura e comprimento da pétala e da sépala de **150 amostras** de flores, assim como a espécie de cada uma (*versicolor*, *setosa*, *virginica*). Mais informações: https://scikit-learn.org/stable/auto_examples/datasets/plot_iris_dataset.html.\n",
        "\n",
        "<img src=\"https://s3.amazonaws.com/assets.datacamp.com/blog_assets/Machine+Learning+R/iris-machinelearning.png\" alt=\"dieta\" width=\"600px\">"
      ]
    },
    {
      "cell_type": "markdown",
      "id": "66188fea",
      "metadata": {
        "id": "66188fea"
      },
      "source": [
        "Dentro da biblioteca Scikit Learn há bases da dados prontas utilizadas para exemplos e testes.\n",
        "\n",
        "Vamos importar essa base dados usando o comando:"
      ]
    },
    {
      "cell_type": "code",
      "execution_count": null,
      "id": "7882b52a",
      "metadata": {
        "id": "7882b52a"
      },
      "outputs": [],
      "source": [
        "from sklearn import datasets"
      ]
    },
    {
      "cell_type": "markdown",
      "id": "67e3be0c",
      "metadata": {
        "id": "67e3be0c"
      },
      "source": [
        "Agora vamos carregar os dados do dataset Iris:"
      ]
    },
    {
      "cell_type": "code",
      "execution_count": null,
      "id": "2625d2d9",
      "metadata": {
        "id": "2625d2d9"
      },
      "outputs": [],
      "source": [
        "# Carregando os dados\n",
        "iris = datasets.load_iris()"
      ]
    },
    {
      "cell_type": "code",
      "execution_count": null,
      "id": "8572fe52",
      "metadata": {
        "id": "8572fe52"
      },
      "outputs": [],
      "source": [
        "# Dê um print(iris) para ver como os dados estão estruturados nessa variável (objeto)\n",
        "# Perceba que é parecido com um dicioário nativo do Python"
      ]
    },
    {
      "cell_type": "code",
      "execution_count": null,
      "id": "db299de2",
      "metadata": {
        "id": "db299de2"
      },
      "outputs": [],
      "source": [
        "type(iris) # Entretanto, para saber qual a 'estrutura de dados' da variável iris corretamente"
      ]
    },
    {
      "cell_type": "code",
      "execution_count": null,
      "id": "ad7b055f",
      "metadata": {
        "id": "ad7b055f"
      },
      "outputs": [],
      "source": [
        "iris.keys() # Para saber as 'chaves'"
      ]
    },
    {
      "cell_type": "code",
      "execution_count": null,
      "id": "93dd0b3f",
      "metadata": {
        "id": "93dd0b3f"
      },
      "outputs": [],
      "source": [
        "iris['feature_names'] # Acessar como em um dicionário"
      ]
    },
    {
      "cell_type": "code",
      "execution_count": null,
      "id": "7cc64ea9",
      "metadata": {
        "id": "7cc64ea9"
      },
      "outputs": [],
      "source": [
        "iris.feature_names # Acessar como atributo de um objeto"
      ]
    },
    {
      "cell_type": "markdown",
      "id": "92cdd00c",
      "metadata": {
        "id": "92cdd00c"
      },
      "source": [
        "Para facilitar a visualização dos dados, vamos usar o pandas.\n",
        "\n",
        "Para isso, vamos criar um dataframe pandas que recebe como dados os atributos do objeto iris que criamos acima."
      ]
    },
    {
      "cell_type": "code",
      "execution_count": null,
      "id": "0d219af0",
      "metadata": {
        "id": "0d219af0"
      },
      "outputs": [],
      "source": [
        "import pandas as pd"
      ]
    },
    {
      "cell_type": "code",
      "execution_count": null,
      "id": "05259d3e",
      "metadata": {
        "id": "05259d3e"
      },
      "outputs": [],
      "source": [
        "dados = pd.DataFrame(data=iris.data,  # Estamos dizendo que o dados do dataframe são o atributo data do objeto iris\n",
        "                     columns = iris.feature_names) # Já o nome das colunas do dataframe serão o atrib feature_names"
      ]
    },
    {
      "cell_type": "code",
      "execution_count": null,
      "id": "3c43b470",
      "metadata": {
        "id": "3c43b470"
      },
      "outputs": [],
      "source": [
        "dados.head() # Para vermos as linhas do dataframe (o número passado no head será o número de linhas printadas)"
      ]
    },
    {
      "cell_type": "markdown",
      "id": "eb554994",
      "metadata": {
        "id": "eb554994"
      },
      "source": [
        "Vamos adicionar a essa tabela, os correspondentes nomes das flores"
      ]
    },
    {
      "cell_type": "code",
      "execution_count": null,
      "id": "4af8fc84",
      "metadata": {
        "id": "4af8fc84"
      },
      "outputs": [],
      "source": [
        "dados['flower'] = iris.target"
      ]
    },
    {
      "cell_type": "code",
      "execution_count": null,
      "id": "187d7565",
      "metadata": {
        "id": "187d7565"
      },
      "outputs": [],
      "source": [
        "dados.head()"
      ]
    },
    {
      "cell_type": "markdown",
      "id": "aa742723",
      "metadata": {
        "id": "aa742723"
      },
      "source": [
        "Neste dataset, cada número corresponde a uma classe de flor. Vamos transformar para aparecer o nome de cada uma. Para isso faremos uma função que irá mapear os nomes de acordo com os números. Vamos aplicar a função sobre uma coluna inteira do nosso dataframe."
      ]
    },
    {
      "cell_type": "code",
      "execution_count": null,
      "id": "f5b952f0",
      "metadata": {
        "id": "f5b952f0"
      },
      "outputs": [],
      "source": [
        "iris.target_names  # Aqui estamos vendo os nomes que vem junto com o dataset"
      ]
    },
    {
      "cell_type": "code",
      "execution_count": null,
      "id": "6de08294",
      "metadata": {
        "id": "6de08294"
      },
      "outputs": [],
      "source": [
        "# Aqui estamos criando uma funcao que recebe o número da classe e retorna o nome correspondente\n",
        "def mapear_nomes(numero_classe):\n",
        "    flower_map = {\n",
        "        0:iris.target_names[0],\n",
        "        1:iris.target_names[1],\n",
        "        2:iris.target_names[2]\n",
        "    }\n",
        "    return(flower_map[numero_classe])"
      ]
    },
    {
      "cell_type": "code",
      "execution_count": null,
      "id": "ca8ecece",
      "metadata": {
        "id": "ca8ecece"
      },
      "outputs": [],
      "source": [
        "# O pandas permite que nos apliquemos uma função para todas as entradas de uma coluna\n",
        "# Observe que prático é aplicar a função mapear_nomes sobre todos os valores na células da coluna 'flower'\n",
        "# O resultado está sendo passado para uma nova coluna, chamada 'flower_name'\n",
        "\n",
        "dados['flower_name'] = dados['flower'].apply(mapear_nomes)"
      ]
    },
    {
      "cell_type": "code",
      "execution_count": null,
      "id": "3d4cafca",
      "metadata": {
        "id": "3d4cafca"
      },
      "outputs": [],
      "source": [
        "dados.head(3)"
      ]
    },
    {
      "cell_type": "markdown",
      "id": "e3300318",
      "metadata": {
        "id": "e3300318"
      },
      "source": [
        "Vamos jogar fora a coluna **flower** uma vez que agora temos o nome da classe em outra coluna."
      ]
    },
    {
      "cell_type": "code",
      "execution_count": null,
      "id": "f1688c13",
      "metadata": {
        "id": "f1688c13"
      },
      "outputs": [],
      "source": [
        "dados = dados.drop(columns=['flower'])"
      ]
    },
    {
      "cell_type": "code",
      "execution_count": null,
      "id": "f8b0536a",
      "metadata": {
        "id": "f8b0536a"
      },
      "outputs": [],
      "source": [
        "dados.head(3)"
      ]
    },
    {
      "cell_type": "markdown",
      "id": "541e8724",
      "metadata": {
        "id": "541e8724"
      },
      "source": [
        "### Informações técnicas sobre os dados\n",
        "\n",
        "O método **.info()** do pandas nos diz quais são os tipos de dados que temos em cada coluna, a quantidade de linhas não nulas e quanto espaço na memória do computador (RAM) nosso dataframe está ocupando:"
      ]
    },
    {
      "cell_type": "code",
      "execution_count": null,
      "id": "eaf6cdc4",
      "metadata": {
        "id": "eaf6cdc4"
      },
      "outputs": [],
      "source": [
        "dados.info()"
      ]
    },
    {
      "cell_type": "markdown",
      "id": "421ad37f",
      "metadata": {
        "id": "421ad37f"
      },
      "source": [
        "### Estatísticas\n",
        "\n",
        "O método **.describe()** do pandas nos gera estatísticas básicas de todas as colunas do dataframe:"
      ]
    },
    {
      "cell_type": "code",
      "execution_count": null,
      "id": "a2c7fd7e",
      "metadata": {
        "id": "a2c7fd7e"
      },
      "outputs": [],
      "source": [
        "dados.describe()"
      ]
    },
    {
      "cell_type": "markdown",
      "id": "3d4e37b7",
      "metadata": {
        "id": "3d4e37b7"
      },
      "source": [
        "### Contando ocorrências de dados categóricos"
      ]
    },
    {
      "cell_type": "code",
      "execution_count": null,
      "id": "a6b1db73",
      "metadata": {
        "id": "a6b1db73"
      },
      "outputs": [],
      "source": [
        "dados.flower_name.value_counts()['Setosa']"
      ]
    },
    {
      "cell_type": "code",
      "execution_count": null,
      "id": "1e6b3456",
      "metadata": {
        "id": "1e6b3456"
      },
      "outputs": [],
      "source": [
        "dados.flower_name.value_counts()['Versicolor']"
      ]
    },
    {
      "cell_type": "code",
      "execution_count": null,
      "id": "a05692f6",
      "metadata": {
        "id": "a05692f6"
      },
      "outputs": [],
      "source": [
        "dados.flower_name.value_counts()['Virginica']"
      ]
    },
    {
      "cell_type": "markdown",
      "id": "7a4a91a4",
      "metadata": {
        "id": "7a4a91a4"
      },
      "source": [
        "### Gráficos\n",
        "\n",
        "O métodos **.hist()** do pandas nos gera os histogramas de todas as colunas com dados numéricos.\n",
        "\n",
        "Você pode olhar aqui https://pandas.pydata.org/pandas-docs/dev/reference/api/pandas.DataFrame.hist.html para saber como passar parâmetros neste método de forma a controlar o design do gráfico."
      ]
    },
    {
      "cell_type": "code",
      "execution_count": null,
      "id": "c0c4d1e9",
      "metadata": {
        "id": "c0c4d1e9"
      },
      "outputs": [],
      "source": [
        "dados.hist()"
      ]
    },
    {
      "cell_type": "markdown",
      "id": "20e2998a",
      "metadata": {
        "id": "20e2998a"
      },
      "source": [
        "Já o método **.boxplot()** gera diagramas de caixa dos dados numéricos:"
      ]
    },
    {
      "cell_type": "code",
      "execution_count": null,
      "id": "c01f2643",
      "metadata": {
        "id": "c01f2643"
      },
      "outputs": [],
      "source": [
        "dados.boxplot()"
      ]
    },
    {
      "cell_type": "markdown",
      "id": "357eb0cc",
      "metadata": {
        "id": "357eb0cc"
      },
      "source": [
        "O método **.plot.scatter()** gera gráficos de dispersão. Como os gráficos de dispersão são 2D, isto é, tem dois eixos, um x e outro y, precisamos especificar qual coluna do nosso dataframe será o x e qual coluna será o y.\n",
        "\n",
        "Vejamos o exemplo:"
      ]
    },
    {
      "cell_type": "code",
      "execution_count": null,
      "id": "99526768",
      "metadata": {
        "id": "99526768"
      },
      "outputs": [],
      "source": [
        "dados.plot.scatter(x='sepal length (cm)',\n",
        "                   y='sepal width (cm)'\n",
        "                  )"
      ]
    },
    {
      "cell_type": "code",
      "execution_count": null,
      "id": "9a15118c",
      "metadata": {
        "id": "9a15118c"
      },
      "outputs": [],
      "source": [
        "# Podemos repetir o procedimento para cada dispersão que queremos ver\n",
        "dados.plot.scatter(x='petal length (cm)', y='petal width (cm)')"
      ]
    },
    {
      "cell_type": "markdown",
      "id": "8363b4a8",
      "metadata": {
        "id": "8363b4a8"
      },
      "source": [
        "Nós também podemos fazer os mesmos gráficos que fizemos utilizando métodos nativos do **pandas** usando métodos do **seaborn**.\n",
        "\n",
        "Vejamos os exemplos:"
      ]
    },
    {
      "cell_type": "code",
      "execution_count": null,
      "id": "34ed12b8",
      "metadata": {
        "id": "34ed12b8"
      },
      "outputs": [],
      "source": [
        "import seaborn as sns"
      ]
    },
    {
      "cell_type": "code",
      "execution_count": null,
      "id": "7fe3e5a3",
      "metadata": {
        "id": "7fe3e5a3"
      },
      "outputs": [],
      "source": [
        "# Histogramas\n",
        "sns.histplot(data=dados)"
      ]
    },
    {
      "cell_type": "code",
      "execution_count": null,
      "id": "ce9bec80",
      "metadata": {
        "id": "ce9bec80"
      },
      "outputs": [],
      "source": [
        "# Boxplot\n",
        "sns.boxplot(data=dados)"
      ]
    },
    {
      "cell_type": "markdown",
      "id": "25570eaa",
      "metadata": {
        "id": "25570eaa"
      },
      "source": [
        "O Seaborn tem um método bastante interessante que plota todas as dispersões e todas as distribuições.\n",
        "\n",
        "Perceba que o parâmetro **hue** recebe o nome da coluna de classe. Ele irá pintar cada ponto de acordo com o tipo de flor.\n",
        "\n",
        "Vejamos:"
      ]
    },
    {
      "cell_type": "code",
      "execution_count": null,
      "id": "2eaec9c5",
      "metadata": {
        "id": "2eaec9c5"
      },
      "outputs": [],
      "source": [
        "sns.pairplot(dados, hue='flower_name')"
      ]
    },
    {
      "cell_type": "markdown",
      "id": "cd19b365",
      "metadata": {
        "id": "cd19b365"
      },
      "source": [
        "-------------------------\n",
        "\n",
        "## Exercício - Íris Data set\n",
        "\n",
        "Nas **estatísticas** e **plots** que realizamos no exemplo 2, os dados foram considerados sobre todos os tipos de flores. Considere agora separar os dados em 3 dataframes diferentes, cada um com um tipo de flor. Refaça as estatísticas e plote novos gráficos para cada um dos dataframes.\n",
        "\n",
        "Você é capaz de propor um método de classificação das flores a partir da análise dos dados?"
      ]
    },
    {
      "cell_type": "code",
      "execution_count": null,
      "id": "2ee32e57",
      "metadata": {
        "id": "2ee32e57"
      },
      "outputs": [],
      "source": [
        "## Colorar código a partir daqui"
      ]
    },
    {
      "cell_type": "code",
      "execution_count": null,
      "id": "5a73fe5d",
      "metadata": {
        "id": "5a73fe5d"
      },
      "outputs": [],
      "source": [
        "# Deixar eles fazerem e depois mostrar o dados.groupby('flower_name').mean()\n",
        "# dados.groupby('flower_name').std()"
      ]
    },
    {
      "cell_type": "code",
      "execution_count": null,
      "id": "e62f711b",
      "metadata": {
        "id": "e62f711b"
      },
      "outputs": [],
      "source": []
    }
  ],
  "metadata": {
    "kernelspec": {
      "display_name": "Python 3",
      "language": "python",
      "name": "python3"
    },
    "language_info": {
      "codemirror_mode": {
        "name": "ipython",
        "version": 3
      },
      "file_extension": ".py",
      "mimetype": "text/x-python",
      "name": "python",
      "nbconvert_exporter": "python",
      "pygments_lexer": "ipython3",
      "version": "3.9.5"
    },
    "colab": {
      "provenance": [],
      "include_colab_link": true
    }
  },
  "nbformat": 4,
  "nbformat_minor": 5
}